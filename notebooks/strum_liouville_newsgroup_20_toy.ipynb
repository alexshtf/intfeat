{
 "cells": [
  {
   "cell_type": "code",
   "execution_count": 73,
   "id": "2b3d00ee",
   "metadata": {},
   "outputs": [],
   "source": [
    "import numpy as np\n",
    "from intfeat import StrumLiouvilleTransformer\n",
    "import optuna\n",
    "from sklearn.datasets import fetch_20newsgroups\n",
    "from sklearn.feature_selection import SelectKBest, chi2\n",
    "from sklearn.feature_extraction.text import CountVectorizer, TfidfVectorizer\n",
    "from sklearn.linear_model import LogisticRegressionCV\n",
    "from sklearn.metrics import accuracy_score, roc_auc_score\n",
    "from sklearn.pipeline import make_pipeline, make_union\n",
    "from sklearn.preprocessing import SplineTransformer, KBinsDiscretizer, StandardScaler, FunctionTransformer"
   ]
  },
  {
   "cell_type": "code",
   "execution_count": 74,
   "id": "5f43a9b4",
   "metadata": {},
   "outputs": [],
   "source": [
    "import warnings\n",
    "warnings.filterwarnings(\"ignore\", category=DeprecationWarning)\n",
    "warnings.filterwarnings(\"ignore\", category=UserWarning)\n",
    "warnings.filterwarnings(\"ignore\", category=FutureWarning)"
   ]
  },
  {
   "cell_type": "markdown",
   "id": "65b5c85d",
   "metadata": {},
   "source": [
    "# Generate dataset"
   ]
  },
  {
   "cell_type": "code",
   "execution_count": 75,
   "id": "6cd12b0d",
   "metadata": {},
   "outputs": [],
   "source": [
    "X_train, y_train = fetch_20newsgroups(return_X_y=True, subset='train')\n",
    "X_test, y_test = fetch_20newsgroups(return_X_y=True, subset='test')\n",
    "num_tokens = 20\n",
    "num_funcs = 20"
   ]
  },
  {
   "cell_type": "code",
   "execution_count": 76,
   "id": "6ee29ad1",
   "metadata": {},
   "outputs": [],
   "source": [
    "y_train = (y_train == 10)\n",
    "y_test = (y_test == 10)"
   ]
  },
  {
   "cell_type": "code",
   "execution_count": 77,
   "id": "b2e9e152",
   "metadata": {},
   "outputs": [],
   "source": [
    "logreg_params = dict(solver='newton-cholesky', Cs=20)"
   ]
  },
  {
   "cell_type": "code",
   "execution_count": 78,
   "id": "efa164da",
   "metadata": {},
   "outputs": [],
   "source": [
    "def make_tfidf_pipeline():\n",
    "    return make_pipeline(\n",
    "        TfidfVectorizer(),\n",
    "        SelectKBest(k=num_tokens),\n",
    "        LogisticRegressionCV(**logreg_params)\n",
    "    )"
   ]
  },
  {
   "cell_type": "code",
   "execution_count": 79,
   "id": "8e8e36f5",
   "metadata": {},
   "outputs": [],
   "source": [
    "def make_count_pipeline():\n",
    "    return make_pipeline(\n",
    "        CountVectorizer(),\n",
    "        SelectKBest(k=num_tokens),\n",
    "        FunctionTransformer(lambda X: X.toarray(), accept_sparse=True),\n",
    "        StandardScaler(),\n",
    "        LogisticRegressionCV(**logreg_params)\n",
    "    )"
   ]
  },
  {
   "cell_type": "code",
   "execution_count": 80,
   "id": "5f2642a1",
   "metadata": {},
   "outputs": [],
   "source": [
    "def make_count_bins_pipeline(strategy='uniform'):\n",
    "    return make_pipeline(\n",
    "        CountVectorizer(),\n",
    "        SelectKBest(k=num_tokens),\n",
    "        FunctionTransformer(lambda X: X.toarray(), accept_sparse=True),\n",
    "        KBinsDiscretizer(n_bins=num_funcs, strategy=strategy, quantile_method='averaged_inverted_cdf'),\n",
    "        LogisticRegressionCV(**logreg_params, fit_intercept=False)\n",
    "    )"
   ]
  },
  {
   "cell_type": "code",
   "execution_count": 81,
   "id": "76894a3f",
   "metadata": {},
   "outputs": [],
   "source": [
    "def make_spline_pipeline(knots='uniform', degree=3):\n",
    "    n_knots = num_funcs - (degree - 1)\n",
    "    return make_pipeline(\n",
    "        CountVectorizer(),\n",
    "        SelectKBest(k=num_tokens),\n",
    "        FunctionTransformer(lambda X: X.toarray(), accept_sparse=True),\n",
    "        SplineTransformer(n_knots=n_knots, knots=knots, degree=degree, include_bias=False),\n",
    "        LogisticRegressionCV(**logreg_params)\n",
    "    )"
   ]
  },
  {
   "cell_type": "code",
   "execution_count": 82,
   "id": "7b94cd67",
   "metadata": {},
   "outputs": [],
   "source": [
    "def make_count_sl_pipeline(curvature_gamma=0.8):\n",
    "    return make_pipeline(\n",
    "        CountVectorizer(),\n",
    "        SelectKBest(k=num_tokens),\n",
    "        StrumLiouvilleTransformer(num_funcs=num_funcs, curvature_gamma=curvature_gamma),\n",
    "        LogisticRegressionCV(**logreg_params)\n",
    "    )"
   ]
  },
  {
   "cell_type": "code",
   "execution_count": 83,
   "id": "dfd9ad1a",
   "metadata": {},
   "outputs": [
    {
     "data": {
      "text/plain": [
       "0.8502377140102465"
      ]
     },
     "execution_count": 83,
     "metadata": {},
     "output_type": "execute_result"
    }
   ],
   "source": [
    "pipeline = make_tfidf_pipeline().fit(X_train, y_train)\n",
    "roc_auc_score(y_test, pipeline.predict(X_test))"
   ]
  },
  {
   "cell_type": "code",
   "execution_count": 84,
   "id": "0b547a75",
   "metadata": {},
   "outputs": [
    {
     "data": {
      "text/plain": [
       "0.8099886615459158"
      ]
     },
     "execution_count": 84,
     "metadata": {},
     "output_type": "execute_result"
    }
   ],
   "source": [
    "pipeline = make_count_pipeline().fit(X_train, y_train)\n",
    "roc_auc_score(y_test, pipeline.predict(X_test))"
   ]
  },
  {
   "cell_type": "code",
   "execution_count": 85,
   "id": "176e37d1",
   "metadata": {},
   "outputs": [
    {
     "data": {
      "text/plain": [
       "0.8128454108775374"
      ]
     },
     "execution_count": 85,
     "metadata": {},
     "output_type": "execute_result"
    }
   ],
   "source": [
    "pipeline = make_count_bins_pipeline().fit(X_train, y_train)\n",
    "roc_auc_score(y_test, pipeline.predict(X_test))"
   ]
  },
  {
   "cell_type": "code",
   "execution_count": 86,
   "id": "bcfeff39",
   "metadata": {},
   "outputs": [
    {
     "data": {
      "text/plain": [
       "0.5"
      ]
     },
     "execution_count": 86,
     "metadata": {},
     "output_type": "execute_result"
    }
   ],
   "source": [
    "pipeline = make_count_bins_pipeline(strategy='quantile').fit(X_train, y_train)\n",
    "roc_auc_score(y_test, pipeline.predict(X_test))"
   ]
  },
  {
   "cell_type": "code",
   "execution_count": 87,
   "id": "3644552b",
   "metadata": {},
   "outputs": [
    {
     "data": {
      "text/plain": [
       "0.8168150995742546"
      ]
     },
     "execution_count": 87,
     "metadata": {},
     "output_type": "execute_result"
    }
   ],
   "source": [
    "pipeline = make_spline_pipeline().fit(X_train, y_train)\n",
    "roc_auc_score(y_test, pipeline.predict(X_test))"
   ]
  },
  {
   "cell_type": "code",
   "execution_count": 88,
   "id": "ef843c15",
   "metadata": {},
   "outputs": [
    {
     "data": {
      "text/plain": [
       "0.8187605913704772"
      ]
     },
     "execution_count": 88,
     "metadata": {},
     "output_type": "execute_result"
    }
   ],
   "source": [
    "pipeline = make_spline_pipeline(knots='quantile').fit(X_train, y_train)\n",
    "roc_auc_score(y_test, pipeline.predict(X_test))"
   ]
  },
  {
   "cell_type": "code",
   "execution_count": 89,
   "id": "9c88da36",
   "metadata": {},
   "outputs": [
    {
     "data": {
      "text/plain": [
       "0.8153516765416977"
      ]
     },
     "execution_count": 89,
     "metadata": {},
     "output_type": "execute_result"
    }
   ],
   "source": [
    "pipeline = make_count_sl_pipeline().fit(X_train, y_train)\n",
    "roc_auc_score(y_test, pipeline.predict(X_test))"
   ]
  },
  {
   "cell_type": "code",
   "execution_count": null,
   "id": "67314ea3",
   "metadata": {},
   "outputs": [],
   "source": []
  }
 ],
 "metadata": {
  "kernelspec": {
   "display_name": "intfeat (3.12.8)",
   "language": "python",
   "name": "python3"
  },
  "language_info": {
   "codemirror_mode": {
    "name": "ipython",
    "version": 3
   },
   "file_extension": ".py",
   "mimetype": "text/x-python",
   "name": "python",
   "nbconvert_exporter": "python",
   "pygments_lexer": "ipython3",
   "version": "3.12.8"
  }
 },
 "nbformat": 4,
 "nbformat_minor": 5
}
